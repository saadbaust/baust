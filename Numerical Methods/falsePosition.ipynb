{
 "cells": [
  {
   "cell_type": "code",
   "execution_count": 1,
   "metadata": {},
   "outputs": [
    {
     "name": "stdout",
     "output_type": "stream",
     "text": [
      "i      a        b      f(a)        f(b)       c\n",
      "1     1.00    2.00    -1.00000   5.00000  1.16667\n",
      "2     1.17    2.00    -0.57870   5.00000  1.25311\n",
      "3     1.25    2.00    -0.28536   5.00000  1.29344\n",
      "4     1.29    2.00    -0.12954   5.00000  1.31128\n",
      "5     1.31    2.00    -0.05659   5.00000  1.31899\n",
      "6     1.32    2.00    -0.02430   5.00000  1.32228\n",
      "7     1.32    2.00    -0.01036   5.00000  1.32368\n",
      "8     1.32    2.00    -0.00440   5.00000  1.32428\n",
      "9     1.32    2.00    -0.00187   5.00000  1.32453\n",
      "Root is 1.3245319865800917\n"
     ]
    }
   ],
   "source": [
    "# Defining Function\n",
    "def f(x):\n",
    "    return x**3-x-1\n",
    "\n",
    "\n",
    "# Input Section\n",
    "# a = float(input('First Guess: '))\n",
    "# b = float(input('Second Guess: '))\n",
    "# e = float(input('Tolerable Error: '))\n",
    "a = 1\n",
    "b = 2\n",
    "e = 0.001\n",
    "\n",
    "# Implementing Falsy Method\n",
    "\n",
    "\n",
    "def falsy(a, b, e):\n",
    "    i = 1\n",
    "    condition = True\n",
    "    print(f'i      a        b      f(a)        f(b)       c')\n",
    "    while condition:\n",
    "        # c = (a*f(b) - b*f(a)) / (f(b)-f(a))\n",
    "        c = b-((f(b)*(b-a))/(f(b)-f(a)))\n",
    "        print(f'{i}     {a:0.2f}    {b:0.2f}    {f(a):0.5f}   {f(b):0.5f}  {c:0.5f}')\n",
    "        if f(a) * f(c) < 0:\n",
    "            b = c\n",
    "        else:\n",
    "            a = c\n",
    "        i = i + 1\n",
    "        condition = abs(f(c)) > e\n",
    "    print(f'Root is {c}')\n",
    "\n",
    "\n",
    "# Checking Correctness of initial guess values and bisecting\n",
    "if f(a) * f(b) > 0.0:\n",
    "    print('wrong guess value!Try Again with different guess values.')\n",
    "else:\n",
    "    falsy(a, b, e)"
   ]
  }
 ],
 "metadata": {
  "kernelspec": {
   "display_name": "Python 3",
   "language": "python",
   "name": "python3"
  },
  "language_info": {
   "codemirror_mode": {
    "name": "ipython",
    "version": 3
   },
   "file_extension": ".py",
   "mimetype": "text/x-python",
   "name": "python",
   "nbconvert_exporter": "python",
   "pygments_lexer": "ipython3",
   "version": "3.11.5"
  }
 },
 "nbformat": 4,
 "nbformat_minor": 2
}
