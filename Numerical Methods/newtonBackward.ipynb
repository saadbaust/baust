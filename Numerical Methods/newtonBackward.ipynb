{
 "cells": [
  {
   "cell_type": "code",
   "execution_count": 2,
   "metadata": {},
   "outputs": [
    {
     "name": "stdout",
     "output_type": "stream",
     "text": [
      "\n",
      "14.125\t\n",
      "25\t10.875\t\n",
      "40.375\t15.375\t4.5\t\n",
      "61\t20.625\t5.25\t0.75\t\n",
      "\n",
      "Value at 2.25 is 10.140625\n"
     ]
    }
   ],
   "source": [
    "\n",
    "def u_cal(u, n):\n",
    "\ttemp = u\n",
    "\tfor i in range(1,n):\n",
    "\t\ttemp = temp * (u + i) \n",
    "\treturn temp\n",
    "\n",
    "\n",
    "def fact(n):\n",
    "\tf = 1\n",
    "\tfor i in range(2, n + 1):\n",
    "\t\tf *= i\n",
    "\treturn f\n",
    "\n",
    "n = 5\n",
    "x = [2, 2.5, 3, 3.5, 4]\n",
    "\n",
    "y = [[0 for i in range(n)]\n",
    "     for j in range(n)]\n",
    "y[0][0] = 7\n",
    "y[1][0] = 14.125\n",
    "y[2][0] = 25\n",
    "y[3][0] = 40.375\n",
    "y[4][0] = 61\n",
    "\n",
    "\n",
    "# Calculating the backward difference table\n",
    "for i in range(1, n):\n",
    "\tfor j in range(n - 1, i - 1, -1):\n",
    "\t\ty[j][i] = y[j][i - 1] - y[j - 1][i - 1]\n",
    "\n",
    "\n",
    "# Displaying the backward difference table\n",
    "for i in range(n):\n",
    "\tfor j in range(i):\n",
    "\t\tprint(y[i][j], end=\"\\t\")\n",
    "\tprint(\"\")\n",
    "\n",
    "# Value to interpolate at\n",
    "value = 2.25\n",
    "\n",
    "# Initializing u and sum\n",
    "sum = y[n - 1][0]\n",
    "u = (value - x[n - 1]) / (x[1] - x[0])\n",
    "for i in range(1, n):\n",
    "\tsum = sum + (u_cal(u, i) * y[n - 1][i]) / fact(i)\n",
    "\n",
    "print(\"\\nValue at\", value, \n",
    "\t\"is\", round(sum, 6))\n",
    "\n",
    "\n",
    "# This code is contributed by phasing17\n"
   ]
  },
  {
   "cell_type": "code",
   "execution_count": 2,
   "metadata": {},
   "outputs": [
    {
     "name": "stdout",
     "output_type": "stream",
     "text": [
      "46\t0\t0\t0\t0\t\n",
      "66\t20\t0\t0\t0\t\n",
      "81\t15\t-5\t0\t0\t\n",
      "93\t12\t-3\t2\t0\t\n",
      "101\t8\t-4\t-1\t-3\t\n"
     ]
    }
   ],
   "source": [
    "n = 5\n",
    "x = [1891, 1901, 1911, 1921, 1931]\n",
    "\n",
    "y = [[0 for i in range(n)]\n",
    "     for j in range(n)]\n",
    "y[0][0] = 46\n",
    "y[1][0] = 66\n",
    "y[2][0] = 81\n",
    "y[3][0] = 93\n",
    "y[4][0] = 101\n",
    "\n",
    "# Calculating the backward difference table\n",
    "for i in range(1, n):\n",
    "    for j in range(n - 1, i - 1, -1):\n",
    "        y[j][i] = y[j][i - 1] - y[j - 1][i - 1]\n",
    "\n",
    "\n",
    "# Displaying the backward difference table\n",
    "for i in range(n):\n",
    "    for j in range(n):\n",
    "        print(y[i][j], end=\"\\t\")\n",
    "    print(\"\")"
   ]
  }
 ],
 "metadata": {
  "kernelspec": {
   "display_name": "Python 3",
   "language": "python",
   "name": "python3"
  },
  "language_info": {
   "codemirror_mode": {
    "name": "ipython",
    "version": 3
   },
   "file_extension": ".py",
   "mimetype": "text/x-python",
   "name": "python",
   "nbconvert_exporter": "python",
   "pygments_lexer": "ipython3",
   "version": "3.11.5"
  }
 },
 "nbformat": 4,
 "nbformat_minor": 2
}
