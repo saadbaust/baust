{
 "cells": [
  {
   "cell_type": "markdown",
   "metadata": {
    "id": "3A4AwBmkjnBl"
   },
   "source": [
    "**BISECTION METHOD IMPLEMENTATION**"
   ]
  },
  {
   "cell_type": "code",
   "execution_count": null,
   "metadata": {
    "colab": {
     "base_uri": "https://localhost:8080/"
    },
    "executionInfo": {
     "elapsed": 35271,
     "status": "ok",
     "timestamp": 1730011866807,
     "user": {
      "displayName": "069_Mst.Sabrina Zaman",
      "userId": "08994796340187245945"
     },
     "user_tz": -360
    },
    "id": "Qb_JihVaKgF2",
    "outputId": "b67089d6-c674-4c11-e1b0-866ba3b205a4"
   },
   "outputs": [],
   "source": [
    "2# Defining Function\n",
    "#import math\n",
    "#def f(x):\n",
    "    #return x**3-x-1\n",
    "def f(x):\n",
    "    return x**3-x-1\n",
    "\n",
    "# Input Section\n",
    "a = float(input('First Guess: '))\n",
    "b = float(input('Second Guess: '))\n",
    "e = float(input('Tolerable Error: '))\n",
    "\n",
    "# Implementing Bisection Method\n",
    "def bisection(a,b,e):\n",
    "    i = 1\n",
    "    print('\\n\\n*** BISECTION METHOD IMPLEMENTATION ***')\n",
    "    condition = True\n",
    "    while condition:\n",
    "        c = (a + b)/2\n",
    "        print('Iteration-%d, c = %0.6f and f(c) = %0.6f' % (i, c, f(c)))\n",
    "        if f(a) * f(c) < 0:\n",
    "            b = c\n",
    "        else:\n",
    "            a = c\n",
    "        i = i + 1\n",
    "        condition = abs(f(c)) > e\n",
    "    print('\\nRequired Root is : %0.8f' % c)\n",
    "\n",
    "# Checking Correctness of initial guess values and bisecting\n",
    "if f(a) * f(b) > 0.0:\n",
    "    print('wrong guess value!Try Again with different guess values.')\n",
    "else:\n",
    "    bisection(a,b,e)\n",
    "\n",
    "\n",
    "\n",
    "\n"
   ]
  },
  {
   "cell_type": "markdown",
   "metadata": {
    "id": "cPuCp0Lejazf"
   },
   "source": [
    "**FALSI METHOD IMPLEMENTATION**"
   ]
  },
  {
   "cell_type": "code",
   "execution_count": null,
   "metadata": {
    "colab": {
     "base_uri": "https://localhost:8080/"
    },
    "executionInfo": {
     "elapsed": 13364,
     "status": "ok",
     "timestamp": 1725909046264,
     "user": {
      "displayName": "Munira Mou",
      "userId": "06471568516983263657"
     },
     "user_tz": 420
    },
    "id": "PYdZjll_f8zR",
    "outputId": "e155049c-1a3b-4643-d7ae-5b65a23c1953"
   },
   "outputs": [],
   "source": [
    "# Defining Function\n",
    "def f(x):\n",
    "    return x**3-x-1\n",
    "\n",
    "# Input Section\n",
    "a = float(input('First Guess: '))\n",
    "b = float(input('Second Guess: '))\n",
    "e = float(input('Tolerable Error: '))\n",
    "\n",
    "# Implementing Falsy Method\n",
    "def falsy(a,b,e):\n",
    "    i = 1\n",
    "    print('\\n\\n*** FALSI METHOD IMPLEMENTATION ***')\n",
    "    condition = True\n",
    "    while condition:\n",
    "        c = (a*f(b) - b*f(a))/ (f(b)-f(a))\n",
    "        print('Iteration-%d, c = %0.6f and f(c) = %0.6f' % (i, c, f(c)))\n",
    "        if f(a) * f(c) < 0:\n",
    "            b = c\n",
    "        else:\n",
    "            a = c\n",
    "        i = i + 1\n",
    "        condition = abs(f(c)) > e\n",
    "    print('\\nRequired Root is : %0.8f' % c)\n",
    "\n",
    "# Checking Correctness of initial guess values and bisecting\n",
    "if f(a) * f(b) > 0.0:\n",
    "    print('wrong guess value!Try Again with different guess values.')\n",
    "else:\n",
    "    falsy (a,b,e)"
   ]
  },
  {
   "cell_type": "markdown",
   "metadata": {
    "id": "wEWrgAqRjFje"
   },
   "source": [
    "**Fixed Point Iteration Method**"
   ]
  },
  {
   "cell_type": "code",
   "execution_count": null,
   "metadata": {
    "colab": {
     "base_uri": "https://localhost:8080/"
    },
    "executionInfo": {
     "elapsed": 7698,
     "status": "ok",
     "timestamp": 1727539434604,
     "user": {
      "displayName": "Munira Mou",
      "userId": "06471568516983263657"
     },
     "user_tz": 420
    },
    "id": "vRGRqZ-Kcwap",
    "outputId": "ef7defd9-27de-4f2a-9116-f20223088a90"
   },
   "outputs": [],
   "source": [
    "import math\n",
    "\n",
    "def f(x):\n",
    "    return 3*x-math.cos(x)-1\n",
    "def g(x):\n",
    "    return (math.cos(x)+1)/3\n",
    "def fixedPointIteration(x0, e):\n",
    "    print('\\n\\n*** FIXED POINT ITERATION ***')\n",
    "    i = 1\n",
    "    condition = True\n",
    "    while condition:\n",
    "        x1 = g(x0)\n",
    "        print('Iteration-%d, x1 = %0.6f and f(x1) = %0.6f' % (i, x1, f(x1)))\n",
    "        x0 = x1\n",
    "        i = i + 1\n",
    "        condition = abs(f(x1)) > e\n",
    "    print('\\nRequired root is: %0.8f' % x1)\n",
    "\n",
    "x0 = input('Enter Guess: ')\n",
    "e = input('Tolerable Error: ')\n",
    "x0 = float(x0)\n",
    "e = float(e)\n",
    "fixedPointIteration(x0,e)\n"
   ]
  },
  {
   "cell_type": "markdown",
   "metadata": {
    "id": "zIyHI7eziv2t"
   },
   "source": []
  },
  {
   "cell_type": "markdown",
   "metadata": {
    "id": "OjYmqbuBnCmV"
   },
   "source": [
    "**NEWTON RAPHSON METHOD**"
   ]
  },
  {
   "cell_type": "code",
   "execution_count": null,
   "metadata": {
    "id": "gmItXPZknBWt"
   },
   "outputs": [],
   "source": [
    "import math\n",
    "def f(x):\n",
    "    return x**3-x-1\n",
    "def g(x):\n",
    "    return x**3-1\n",
    "def newtonRaphson(x0,e):\n",
    "    print('\\n\\n*** NEWTON RAPHSON METHOD IMPLEMENTATION ***')\n",
    "    i = 1\n",
    "    condition = True\n",
    "    while condition:\n",
    "        if g(x0) == 0.0:\n",
    "            print('Divide by zero error!')\n",
    "            break\n",
    "        x1 = x0 - f(x0)/g(x0)\n",
    "        print('Iteration-%d, x1 = %0.6f and f(x1) = %0.6f' % (i, x1, f(x1)))\n",
    "        x0 = x1\n",
    "        i = i + 1\n",
    "        condition = abs(f(x1)) > e\n",
    "    print('\\nRequired root is: %0.2f' % x1)\n",
    "\n",
    "x0 = float(input('Enter Guess: '))\n",
    "e = float(input('Tolerable Error: '))\n",
    "newtonRaphson(x0,e)"
   ]
  },
  {
   "cell_type": "markdown",
   "metadata": {
    "id": "A9b1dikTqlnB"
   },
   "source": [
    "2**Secant Method**"
   ]
  },
  {
   "cell_type": "code",
   "execution_count": null,
   "metadata": {
    "colab": {
     "base_uri": "https://localhost:8080/"
    },
    "executionInfo": {
     "elapsed": 10204,
     "status": "ok",
     "timestamp": 1727680812428,
     "user": {
      "displayName": "069_Mst.Sabrina Zaman",
      "userId": "08994796340187245945"
     },
     "user_tz": -360
    },
    "id": "lMc0mfvdqjR5",
    "outputId": "dd368b85-2fdf-488a-a3c8-b6d64987d581"
   },
   "outputs": [],
   "source": [
    "# Defining Function\n",
    "def f(x):\n",
    "    #return 2*x**3-2*x-5\n",
    "    return x**3-x-1\n",
    "\n",
    "# Implementing Secant Method\n",
    "\n",
    "def secant(x0,x1,e):\n",
    "    print('\\n\\n*** SECANT METHOD IMPLEMENTATION ***')\n",
    "    i = 1\n",
    "    condition = True\n",
    "    while condition:\n",
    "        if f(x0) == f(x1):\n",
    "            print('Divide by zero error!')\n",
    "            break\n",
    "        x2 = x0 - (x1-x0)*f(x0)/( f(x1) - f(x0) )\n",
    "        print('Iteration-%d, x2 = %0.6f and f(x2) = %0.6f' % (i, x2, f(x2)))\n",
    "        x0 = x1\n",
    "        x1 = x2\n",
    "        condition = abs(f(x2)) > e\n",
    "    print('\\n Required root is: %0.8f' % x2)\n",
    "\n",
    "\n",
    "# Input Section\n",
    "x0 = float(input('Enter First Guess: '))\n",
    "x1 = float(input('Enter Second Guess: '))\n",
    "e = float(input('Tolerable Error: '))\n",
    "\n",
    "\n",
    "secant(x0,x1,e)"
   ]
  },
  {
   "cell_type": "markdown",
   "metadata": {
    "id": "aCxJJ8mhJhrr"
   },
   "source": [
    "**Trapezoidal Method**"
   ]
  },
  {
   "cell_type": "code",
   "execution_count": null,
   "metadata": {
    "id": "URPyOinlJhM8"
   },
   "outputs": [],
   "source": [
    "# Trapezoidal Method\n",
    "\n",
    "# Define function to integrate\n",
    "def f(x):\n",
    "    return 1/x\n",
    "\n",
    "# Implementing trapezoidal method\n",
    "def trapezoidal(x0,xn,n):\n",
    "    # calculating step size\n",
    "    h = (xn - x0) / n\n",
    "\n",
    "    # Finding sum\n",
    "    integration = f(x0) + f(xn)\n",
    "\n",
    "    for i in range(1,n):\n",
    "        k = x0 + i*h\n",
    "        integration = integration + 2 * f(k)\n",
    "\n",
    "    # Finding final integration value\n",
    "    integration = integration * h/2\n",
    "\n",
    "    return integration\n",
    "\n",
    "# Input section\n",
    "lower_limit = float(input(\"Enter lower limit of integration: \"))\n",
    "upper_limit = float(input(\"Enter upper limit of integration: \"))\n",
    "sub_interval = int(input(\"Enter number of sub intervals: \"))\n",
    "\n",
    "# Call trapezoidal() method and get result\n",
    "result = trapezoidal(lower_limit, upper_limit, sub_interval)\n",
    "print(\"Integration result by Trapezoidal method is: %0.6f\" % (result) )"
   ]
  },
  {
   "cell_type": "markdown",
   "metadata": {
    "id": "gCIP6bBx6ztC"
   },
   "source": [
    "** Simpson's 1/3 Rule**"
   ]
  },
  {
   "cell_type": "code",
   "execution_count": null,
   "metadata": {
    "id": "KqUneG586xRp"
   },
   "outputs": [],
   "source": [
    "# Simpson's 1/3 Rule\n",
    "\n",
    "# Define function to integrate\n",
    "def f(x):\n",
    "    return 1/(x)\n",
    "\n",
    "# Implementing Simpson's 1/3\n",
    "def simpson13(x0,xn,n):\n",
    "    # calculating step size\n",
    "    h = (xn - x0) / n\n",
    "\n",
    "    # Finding sum\n",
    "    integration = f(x0) + f(xn)\n",
    "\n",
    "    for i in range(1,n):\n",
    "        k = x0 + i*h\n",
    "\n",
    "        if i%2 == 0:\n",
    "            integration = integration + 2 * f(k)\n",
    "        else:\n",
    "            integration = integration + 4 * f(k)\n",
    "\n",
    "    # Finding final integration value\n",
    "    integration = integration * h/3\n",
    "\n",
    "    return integration\n",
    "\n",
    "# Input section\n",
    "lower_limit = float(input(\"Enter lower limit of integration: \"))\n",
    "upper_limit = float(input(\"Enter upper limit of integration: \"))\n",
    "sub_interval = int(input(\"Enter number of sub intervals: \"))\n",
    "\n",
    "# Call trapezoidal() method and get result\n",
    "result = simpson13(lower_limit, upper_limit, sub_interval)\n",
    "print(\"Integration result by Simpson's 1/3 method is: %0.6f\" % (result) )"
   ]
  },
  {
   "cell_type": "markdown",
   "metadata": {
    "id": "dkC2rtEl9T9-"
   },
   "source": [
    "Newtons interpolation"
   ]
  },
  {
   "cell_type": "code",
   "execution_count": null,
   "metadata": {
    "id": "xtlz-scc9R6n"
   },
   "outputs": [],
   "source": [
    "# Reading number of unknowns\n",
    "n = int(input('Enter number of data points: '))\n",
    "\n",
    "# Making numpy array of n & n x n size and initializing\n",
    "# to zero for storing x and y value along with differences of y\n",
    "x = np.zeros((n))\n",
    "y = np.zeros((n,n))\n",
    "\n",
    "\n",
    "# Reading data points\n",
    "print('Enter data for x and y: ')\n",
    "for i in range(n):\n",
    "    x[i] = float(input( 'x['+str(i)+']='))\n",
    "    y[i][0] = float(input( 'y['+str(i)+']='))\n",
    "\n",
    "# Generating forward difference table\n",
    "for i in range(1,n):\n",
    "    for j in range(0,n-i):\n",
    "        y[j][i] = y[j+1][i-1] - y[j][i-1]\n",
    "\n",
    "\n",
    "print('\\nFORWARD DIFFERENCE TABLE\\n');\n",
    "\n",
    "for i in range(0,n):\n",
    "    print('%0.2f' %(x[i]), end='')\n",
    "    for j in range(0, n-i):\n",
    "        print('\\t\\t%0.2f' %(y[i][j]), end='')\n",
    "    print()"
   ]
  },
  {
   "cell_type": "code",
   "execution_count": null,
   "metadata": {
    "id": "tS8A6TJ1_3F4"
   },
   "outputs": [],
   "source": [
    "def forward_difference_table(x, y):\n",
    "\n",
    "    n = len(x)\n",
    "    table = [[0] * n for _ in range(n)]\n",
    "    for i in range(n):\n",
    "        table[i][0] = y[i]\n",
    "\n",
    "    for j in range(1, n):\n",
    "        for i in range(n-j):\n",
    "            table[i][j] = table[i+1][j-1] - table[i][j-1]\n",
    "\n",
    "    print('\\nFORWARD DIFFERENCE TABLE\\n');\n",
    "\n",
    "    for i in range(0,n):\n",
    "      print('%0.4f' %(x[i]), end='')\n",
    "      for j in range(0, n-i):\n",
    "        print('\\t\\t%0.4f' %(table[i][j]), end='')\n",
    "      print()\n",
    "    return table\n",
    "\n",
    "def forward_interpolation(x, y, xi):\n",
    "\n",
    "    n = len(x)\n",
    "    h = x[1] - x[0]\n",
    "    t = (xi - x[0]) / h\n",
    "\n",
    "    table = forward_difference_table(x, y)\n",
    "\n",
    "    result = y[0]\n",
    "    for i in range(1, n):\n",
    "        term = 1\n",
    "        for j in range(i):\n",
    "            term *= (t - j)\n",
    "            term /= (j + 1)\n",
    "        result += term * table[0][i]\n",
    "\n",
    "    return result\n",
    "\n",
    "def backward_difference_table(x, y):\n",
    "\n",
    "    n = len(x)\n",
    "    table = [[0] * n for _ in range(n)]\n",
    "    for i in range(n):\n",
    "        table[i][0] = y[i]\n",
    "\n",
    "    for j in range(1, n):\n",
    "        for i in range(n-1, j-1, -1):\n",
    "            table[i][j] = table[i][j-1] - table[i-1][j-1]\n",
    "\n",
    "    return table\n",
    "\n",
    "def backward_interpolation(x, y, xi):\n",
    "\n",
    "    n = len(x)\n",
    "    h = x[1] - x[0]\n",
    "    t = (xi - x[-1]) / h\n",
    "\n",
    "    table = backward_difference_table(x, y)\n",
    "\n",
    "    result = y[-1]\n",
    "    for i in range(1, n):\n",
    "        term = 1\n",
    "        for j in range(i):\n",
    "            term *= (t + j)\n",
    "            term /= (j + 1)\n",
    "        result += term * table[n-1][i]\n",
    "\n",
    "    return result\n",
    "\n",
    "# Example usage:\n",
    "x = [10, 20, 30, 40,50]\n",
    "y = [0.1736, 0.3420, 0.500, 0.6428,0.7660]\n",
    "xi = 35\n",
    "\n",
    "forward_result = forward_interpolation(x, y, xi)\n",
    "backward_result = backward_interpolation(x, y, xi)\n",
    "\n",
    "print(\"Forward interpolation at x =\", xi, \":\", forward_result)\n",
    "print(\"Backward interpolation at x =\", xi, \":\", backward_result)\n"
   ]
  },
  {
   "cell_type": "code",
   "execution_count": null,
   "metadata": {
    "id": "O0Im3NLDHoZg"
   },
   "outputs": [],
   "source": [
    "import math\n",
    "\n",
    "def forward_difference_table(x, y):\n",
    "    n = len(x)\n",
    "    table = [[0] * n for _ in range(n)]\n",
    "    for i in range(n):\n",
    "        table[i][0] = y[i]\n",
    "\n",
    "    for j in range(1, n):\n",
    "        for i in range(n-j):\n",
    "            table[i][j] = table[i+1][j-1] - table[i][j-1]\n",
    "\n",
    "    print('\\nFORWARD DIFFERENCE TABLE\\n');\n",
    "    for i in range(0,n):\n",
    "      print('%0.2f' %(x[i]), end='')\n",
    "      for j in range(0, n-i):\n",
    "        print('\\t\\t%0.2f' %(table[i][j]), end='')\n",
    "      print()\n",
    "\n",
    "    return table\n",
    "\n",
    "def forward_interpolation(x, y, xi):\n",
    "    n = len(x)\n",
    "    h = x[1] - x[0]\n",
    "    t = (xi - x[0]) / h\n",
    "\n",
    "    table = forward_difference_table(x, y)\n",
    "\n",
    "    result = y[0]\n",
    "    for i in range(1, n):\n",
    "        term = 1\n",
    "        for j in range(i):\n",
    "            term *= (t - j) / (j + 1)  # Factorial calculation\n",
    "        result += term * table[0][i]\n",
    "\n",
    "    return result\n",
    "\n",
    "def backward_difference_table(x, y):\n",
    "    n = len(x)\n",
    "    table = [[0] * n for _ in range(n)]\n",
    "    for i in range(n):\n",
    "        table[i][0] = y[i]\n",
    "\n",
    "    for j in range(1, n):\n",
    "        for i in range(n-1, j-1, -1):\n",
    "            table[i][j] = table[i][j-1] - table[i-1][j-1]\n",
    "\n",
    "    return table\n",
    "\n",
    "def backward_interpolation(x, y, xi):\n",
    "    n = len(x)\n",
    "    h = x[1] - x[0]\n",
    "    t = (xi - x[-1]) / h\n",
    "\n",
    "    table = backward_difference_table(x, y)\n",
    "\n",
    "    result = y[-1]\n",
    "    for i in range(1, n):\n",
    "        term = 1\n",
    "        for j in range(i):\n",
    "            term *= (t + j) / (j + 1)  # Factorial calculation\n",
    "        result += term * table[n-1][i]\n",
    "\n",
    "    return result\n",
    "\n",
    "# Example usage:\n",
    "x = [10, 20, 30, 40,50]\n",
    "y = [0.1736, 0.3420, 0.500, 0.6428,0.7660]\n",
    "xi = 35\n",
    "forward_result = forward_interpolation(x, y, xi)\n",
    "backward_result = backward_interpolation(x, y, xi)\n",
    "\n",
    "print(\"Forward interpolation at x =\", xi, \":\", forward_result)\n",
    "print(\"Backward interpolation at x =\", xi, \":\", backward_result)\n"
   ]
  }
 ],
 "metadata": {
  "colab": {
   "provenance": []
  },
  "kernelspec": {
   "display_name": "Python 3",
   "name": "python3"
  },
  "language_info": {
   "codemirror_mode": {
    "name": "ipython",
    "version": 3
   },
   "file_extension": ".py",
   "mimetype": "text/x-python",
   "name": "python",
   "nbconvert_exporter": "python",
   "pygments_lexer": "ipython3",
   "version": "3.11.5"
  }
 },
 "nbformat": 4,
 "nbformat_minor": 0
}
