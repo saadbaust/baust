{
 "cells": [
  {
   "cell_type": "code",
   "execution_count": 13,
   "metadata": {},
   "outputs": [
    {
     "name": "stdout",
     "output_type": "stream",
     "text": [
      "Integration result by Simpson's 1/3 method is: 98.00000000000000000000\n"
     ]
    }
   ],
   "source": [
    "# Simpson's 1/3 Rule\n",
    "import math\n",
    "# Define function to integrate\n",
    "\n",
    "\n",
    "\n",
    "def f(x):\n",
    "    # return math.sin(x)\n",
    "    # return math.exp(x)\n",
    "    # return 1/(x)\n",
    "    return 2*x**3-4*x+1\n",
    "\n",
    "# Implementing Simpson's 1/3\n",
    "\n",
    "\n",
    "def simpson13(x0, xn, n):\n",
    "    # calculating step size\n",
    "    h = (xn - x0) / n\n",
    "\n",
    "    # Finding sum\n",
    "    integration = f(x0) + f(xn)\n",
    "\n",
    "    for i in range(1, n):\n",
    "        k = x0 + i*h\n",
    "\n",
    "        if i % 2 == 0:\n",
    "            integration = integration + 2 * f(k)\n",
    "        else:\n",
    "            integration = integration + 4 * f(k)\n",
    "\n",
    "    # Finding final integration value\n",
    "    integration = integration * h/3\n",
    "\n",
    "    return integration\n",
    "\n",
    "\n",
    "# # Input section\n",
    "# lower_limit = float(input(\"Enter lower limit of integration: \"))\n",
    "# upper_limit = float(input(\"Enter upper limit of integration: \"))\n",
    "# sub_interval = int(input(\"Enter number of sub intervals: \"))\n",
    "# Input section\n",
    "lower_limit = float(2)\n",
    "upper_limit = float(4)\n",
    "sub_interval = int(8)\n",
    "\n",
    "# Call trapezoidal() method and get result\n",
    "result = simpson13(lower_limit, upper_limit, sub_interval)\n",
    "print(\"Integration result by Simpson's 1/3 method is: %0.20f\" % (result))"
   ]
  }
 ],
 "metadata": {
  "kernelspec": {
   "display_name": "Python 3",
   "language": "python",
   "name": "python3"
  },
  "language_info": {
   "codemirror_mode": {
    "name": "ipython",
    "version": 3
   },
   "file_extension": ".py",
   "mimetype": "text/x-python",
   "name": "python",
   "nbconvert_exporter": "python",
   "pygments_lexer": "ipython3",
   "version": "3.11.5"
  }
 },
 "nbformat": 4,
 "nbformat_minor": 2
}
