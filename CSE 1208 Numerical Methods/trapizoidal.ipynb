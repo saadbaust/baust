{
 "cells": [
  {
   "cell_type": "code",
   "execution_count": 6,
   "metadata": {},
   "outputs": [
    {
     "name": "stdout",
     "output_type": "stream",
     "text": [
      "Integration result by Trapezoidal method is: 98.3750000000000000\n"
     ]
    }
   ],
   "source": [
    "# Trapezoidal Method\n",
    "import math\n",
    "# Define function to integrate\n",
    "\n",
    "\n",
    "def f(x):\n",
    "    # return math.sin(x)\n",
    "    # return math.exp(x)\n",
    "    # return 1/(x)\n",
    "    return 2*(x**3)-4*x+1\n",
    "\n",
    "\n",
    "# Implementing trapezoidal method\n",
    "\n",
    "\n",
    "def trapezoidal(x0, xn, n):\n",
    "    # calculating step size\n",
    "    h = (xn - x0) / n\n",
    "\n",
    "    # Finding sum\n",
    "    integration = f(x0) + f(xn)\n",
    "    # print(integration)\n",
    "\n",
    "    for i in range(1, n):\n",
    "        x = x0 + i*h\n",
    "        integration = integration + 2 * f(x)\n",
    "\n",
    "    # Finding final integration value\n",
    "    integration = integration * h/2\n",
    "\n",
    "    return integration\n",
    "\n",
    "\n",
    "# # Input section\n",
    "# lower_limit = float(input(\"Enter lower limit of integration: \"))\n",
    "# upper_limit = float(input(\"Enter upper limit of integration: \"))\n",
    "# sub_interval = int(input(\"Enter number of sub intervals: \"))\n",
    "# Input section\n",
    "lower_limit = float(2)\n",
    "upper_limit = float(4)\n",
    "sub_interval = int(8)\n",
    "\n",
    "# Call trapezoidal() method and get result\n",
    "result = trapezoidal(lower_limit, upper_limit, sub_interval)\n",
    "print(\"Integration result by Trapezoidal method is: %0.16f\" % (result))"
   ]
  }
 ],
 "metadata": {
  "kernelspec": {
   "display_name": "Python 3",
   "language": "python",
   "name": "python3"
  },
  "language_info": {
   "codemirror_mode": {
    "name": "ipython",
    "version": 3
   },
   "file_extension": ".py",
   "mimetype": "text/x-python",
   "name": "python",
   "nbconvert_exporter": "python",
   "pygments_lexer": "ipython3",
   "version": "3.11.5"
  }
 },
 "nbformat": 4,
 "nbformat_minor": 2
}
