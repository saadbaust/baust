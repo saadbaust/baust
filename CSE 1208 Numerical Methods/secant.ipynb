{
 "cells": [
  {
   "cell_type": "code",
   "execution_count": 6,
   "id": "2170d153",
   "metadata": {},
   "outputs": [
    {
     "name": "stdout",
     "output_type": "stream",
     "text": [
      "\n",
      "\n",
      "*** SECANT METHOD IMPLEMENTATION ***\n",
      "Iteration    x2           f(x2)\n",
      "     1        1.166667    -0.578704\n",
      "     2        1.253112    -0.285363\n",
      "     3        1.337206    0.053881\n",
      "     4        1.323850    -0.003698\n",
      "     5        1.324708    -0.000043\n",
      "\n",
      " Required root is: 1.32470794\n"
     ]
    }
   ],
   "source": [
    "# Defining Function\n",
    "def f(x):\n",
    "    #return 2*x**3-2*x-5\n",
    "    return x**3-x-1\n",
    "\n",
    "# Implementing Secant Method\n",
    "\n",
    "def secant(x0,x1,e):\n",
    "    print('\\n\\n*** SECANT METHOD IMPLEMENTATION ***')\n",
    "    print('Iteration    x2           f(x2)')\n",
    "    i = 1\n",
    "    condition = True\n",
    "    while condition:\n",
    "        if f(x0) == f(x1):\n",
    "            print('Divide by zero error!')\n",
    "            break\n",
    "        x2 = x0 - (((x1-x0)*f(x0))/(f(x1) - f(x0)))\n",
    "        print('     %d        %0.6f    %0.6f' % (i, x2, f(x2)))\n",
    "        x0 = x1\n",
    "        x1 = x2\n",
    "        if abs(f(x2)) < e:\n",
    "            break\n",
    "        i+=1\n",
    "    print('\\n Required root is: %0.8f' % x2)\n",
    "\n",
    "\n",
    "# Input Section\n",
    "# x0 = float(input('Enter First Guess: '))\n",
    "# x1 = float(input('Enter Second Guess: '))\n",
    "# e = float(input('Tolerable Error: '))\n",
    "x0 = float(1)\n",
    "x1 = float(2)\n",
    "e = float(0.001)\n",
    "\n",
    "\n",
    "secant(x0,x1,e)"
   ]
  }
 ],
 "metadata": {
  "kernelspec": {
   "display_name": "Python 3",
   "language": "python",
   "name": "python3"
  },
  "language_info": {
   "codemirror_mode": {
    "name": "ipython",
    "version": 3
   },
   "file_extension": ".py",
   "mimetype": "text/x-python",
   "name": "python",
   "nbconvert_exporter": "python",
   "pygments_lexer": "ipython3",
   "version": "3.11.5"
  }
 },
 "nbformat": 4,
 "nbformat_minor": 5
}
