{
 "cells": [
  {
   "cell_type": "code",
   "execution_count": null,
   "metadata": {},
   "outputs": [],
   "source": [
    "import math\n",
    "\n",
    "def f(x):\n",
    "    return x**3-x-1\n",
    "def g(x):\n",
    "    return (x+1)**(1/3)\n",
    "    # return x**3-1\n",
    "\n",
    "def fixedPointIteration(x0, e):\n",
    "    print('\\n\\n*** FIXED POINT ITERATION ***')\n",
    "    i = 1\n",
    "    condition = True\n",
    "    while condition:\n",
    "        x1 = g(x0)\n",
    "        print('Iteration-%d, x1 = %0.6f and f(x1) = %0.6f' % (i, x1, f(x1)))\n",
    "        x0 = x1\n",
    "        i = i + 1\n",
    "        condition = abs(f(x1)) > e\n",
    "    print('\\nRequired root is: %0.8f' % x1)\n",
    "\n",
    "\n",
    "x0 = float(1.5)\n",
    "e = float(0.001)\n",
    "fixedPointIteration(x0,e)"
   ]
  }
 ],
 "metadata": {
  "kernelspec": {
   "display_name": "Python 3",
   "language": "python",
   "name": "python3"
  },
  "language_info": {
   "codemirror_mode": {
    "name": "ipython",
    "version": 3
   },
   "file_extension": ".py",
   "mimetype": "text/x-python",
   "name": "python",
   "nbconvert_exporter": "python",
   "pygments_lexer": "ipython3",
   "version": "3.11.5"
  }
 },
 "nbformat": 4,
 "nbformat_minor": 2
}
