{
 "cells": [
  {
   "cell_type": "code",
   "execution_count": 4,
   "metadata": {},
   "outputs": [
    {
     "name": "stdout",
     "output_type": "stream",
     "text": [
      "7\t7.125\t3.75\t0.75\t0.0\t\n",
      "14.125\t10.875\t4.5\t0.75\t\n",
      "25\t15.375\t5.25\t\n",
      "40.375\t20.625\t\n",
      "61\t\n",
      "\n",
      "Value at 2.25 is 10.140625\n"
     ]
    }
   ],
   "source": [
    "def u_cal(u, n):\n",
    "\n",
    "\ttemp = u\n",
    "\tfor i in range(1, n):\n",
    "\t\ttemp = temp * (u - i) \n",
    "\treturn temp\n",
    "\n",
    "def fact(n):\n",
    "\tf = 1\n",
    "\tfor i in range(2, n + 1):\n",
    "\t\tf = f* i\n",
    "\treturn f\n",
    "\n",
    "n = 5\n",
    "x = [2, 2.5, 3, 3.5, 4]\n",
    "\n",
    "y = [[0 for i in range(n)]\n",
    "     for j in range(n)]\n",
    "y[0][0] = 7\n",
    "y[1][0] = 14.125\n",
    "y[2][0] = 25\n",
    "y[3][0] = 40.375\n",
    "y[4][0] = 61\n",
    "\n",
    "# Calculating the forward difference table\n",
    "for i in range(1, n):\n",
    "\tfor j in range(0,n - i):\n",
    "\t\ty[j][i] = y[j + 1][i - 1] - y[j][i - 1]\n",
    "\n",
    "# Displaying the forward difference table\n",
    "for i in range(n):\n",
    "\tfor j in range(n - i):\n",
    "\t\tprint(y[i][j], end = \"\\t\")\n",
    "\tprint(\"\")\n",
    "\n",
    "# Value to interpolate at\n",
    "value = 2.25\n",
    "\n",
    "# initializing u and sum\n",
    "sum = y[0][0]\n",
    "u = (value - x[0]) / (x[1] - x[0])\n",
    "for i in range(1,n):\n",
    "\tsum = sum + (u_cal(u, i) * y[0][i]) / fact(i)\n",
    "\n",
    "print(\"\\nValue at\", value, \n",
    "\t\"is\", round(sum, 6))\n",
    "\n",
    "# This code is contributed by mits\n"
   ]
  },
  {
   "cell_type": "code",
   "execution_count": 1,
   "metadata": {},
   "outputs": [
    {
     "name": "stdout",
     "output_type": "stream",
     "text": [
      "7\t7.125\t3.75\t0.75\t0.0\t\n",
      "14.125\t10.875\t4.5\t0.75\t0\t\n",
      "25\t15.375\t5.25\t0\t0\t\n",
      "40.375\t20.625\t0\t0\t0\t\n",
      "61\t0\t0\t0\t0\t\n"
     ]
    }
   ],
   "source": [
    "n = 5\n",
    "x = [2, 2.5, 3, 3.5, 4]\n",
    "\n",
    "y = [[0 for i in range(n)]\n",
    "     for j in range(n)]\n",
    "y[0][0] = 7\n",
    "y[1][0] = 14.125\n",
    "y[2][0] = 25\n",
    "y[3][0] = 40.375\n",
    "y[4][0] = 61\n",
    "\n",
    "# Calculating the forward difference table\n",
    "for i in range(1, n):\n",
    "    for j in range(0, n - i):\n",
    "        y[j][i] = y[j + 1][i - 1] - y[j][i - 1]\n",
    "\n",
    "# Displaying the forward difference table\n",
    "for i in range(n):\n",
    "    for j in range(n):\n",
    "        print(y[i][j], end=\"\\t\")\n",
    "    print(\"\")"
   ]
  }
 ],
 "metadata": {
  "kernelspec": {
   "display_name": "Python 3",
   "language": "python",
   "name": "python3"
  },
  "language_info": {
   "codemirror_mode": {
    "name": "ipython",
    "version": 3
   },
   "file_extension": ".py",
   "mimetype": "text/x-python",
   "name": "python",
   "nbconvert_exporter": "python",
   "pygments_lexer": "ipython3",
   "version": "3.11.5"
  }
 },
 "nbformat": 4,
 "nbformat_minor": 2
}
