{
 "cells": [
  {
   "cell_type": "code",
   "execution_count": 7,
   "metadata": {},
   "outputs": [
    {
     "name": "stdout",
     "output_type": "stream",
     "text": [
      "46\t20\t-5\t2\t-3\t\n",
      "66\t15\t-3\t-1\t0\t\n",
      "81\t12\t-4\t0\t0\t\n",
      "93\t8\t0\t0\t0\t\n",
      "101\t0\t0\t0\t0\t\n"
     ]
    }
   ],
   "source": [
    "n = 5\n",
    "x = [1891, 1901, 1911, 1921, 1931]\n",
    "\n",
    "y = [[0 for i in range(n)]\n",
    "     for j in range(n)]\n",
    "y[0][0] = 46\n",
    "y[1][0] = 66\n",
    "y[2][0] = 81\n",
    "y[3][0] = 93\n",
    "y[4][0] = 101\n",
    "\n",
    "for i in range(1,n):\n",
    "    for j in range(0,n-i):\n",
    "        y[j][i]=y[j+1][i-1]-y[j][i-1]\n",
    "        \n",
    "for i in range(n):\n",
    "    for j in range(n):\n",
    "        print(y[i][j], end=\"\\t\")\n",
    "    print(\"\")"
   ]
  }
 ],
 "metadata": {
  "kernelspec": {
   "display_name": "Python 3",
   "language": "python",
   "name": "python3"
  },
  "language_info": {
   "codemirror_mode": {
    "name": "ipython",
    "version": 3
   },
   "file_extension": ".py",
   "mimetype": "text/x-python",
   "name": "python",
   "nbconvert_exporter": "python",
   "pygments_lexer": "ipython3",
   "version": "3.11.5"
  }
 },
 "nbformat": 4,
 "nbformat_minor": 2
}
