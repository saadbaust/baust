{
 "cells": [
  {
   "cell_type": "code",
   "execution_count": null,
   "id": "6b282a88",
   "metadata": {},
   "outputs": [
    {
     "name": "stdout",
     "output_type": "stream",
     "text": [
      "i      a        b      f(a)        f(b)       c\n",
      "1     1.00000  2.00000  -1.00000   5.00000  1.16667\n",
      "2     1.16667  2.00000  -0.57870   5.00000  1.25311\n",
      "3     1.25311  2.00000  -0.28536   5.00000  1.29344\n",
      "4     1.29344  2.00000  -0.12954   5.00000  1.31128\n",
      "5     1.31128  2.00000  -0.05659   5.00000  1.31899\n",
      "6     1.31899  2.00000  -0.02430   5.00000  1.32228\n",
      "7     1.32228  2.00000  -0.01036   5.00000  1.32368\n",
      "8     1.32368  2.00000  -0.00440   5.00000  1.32428\n",
      "9     1.32428  2.00000  -0.00187   5.00000  1.32453\n",
      "\n",
      "Approximate root is: 1.32453\n"
     ]
    }
   ],
   "source": [
    "def f(x, a, b, c, d):\n",
    "    return a*x**3 + b*x**2 + c*x + d\n",
    "\n",
    "def fplsy_method(p, q, e, a, b, c, d):\n",
    "    i = 1\n",
    "    condition = True\n",
    "    while condition:\n",
    "        fp = f(p, a, b, c, d)\n",
    "        fq = f(q, a, b, c, d)\n",
    "        c_val = q - (fq * (q - p)) / (fq - fp)\n",
    "        fc = f(c_val, a, b, c, d)\n",
    "        print(f'{i} {c_val:0.5f}')\n",
    "        \n",
    "        if fp * fc < 0:\n",
    "            q = c_val\n",
    "        else:\n",
    "            p = c_val\n",
    "\n",
    "        i += 1\n",
    "        condition = abs(fc) > e\n",
    "\n",
    "    print(f'\\nApproximate root is: {c_val:0.5f}')\n",
    "\n",
    "a = float(input(\"Enter coefficient a (x^3): \"))\n",
    "b = float(input(\"Enter coefficient b (x^2): \"))\n",
    "c = float(input(\"Enter coefficient c (x): \"))\n",
    "d = float(input(\"Enter constant term d: \"))\n",
    "p = float(input(\"Enter first guess (p): \"))\n",
    "q = float(input(\"Enter second guess (q): \"))\n",
    "e = float(input(\"Enter tolerable error (e.g., 0.001): \"))\n",
    "\n",
    "if f(p, a, b, c, d) * f(q, a, b, c, d) > 0.0:\n",
    "    print(\"Invalid initial guesses. They do not bracket the root.\")\n",
    "else:\n",
    "    fplsy_method(p, q, e, a, b, c, d)"
   ]
  }
 ],
 "metadata": {
  "kernelspec": {
   "display_name": "Python 3",
   "language": "python",
   "name": "python3"
  },
  "language_info": {
   "codemirror_mode": {
    "name": "ipython",
    "version": 3
   },
   "file_extension": ".py",
   "mimetype": "text/x-python",
   "name": "python",
   "nbconvert_exporter": "python",
   "pygments_lexer": "ipython3",
   "version": "3.11.5"
  }
 },
 "nbformat": 4,
 "nbformat_minor": 5
}
